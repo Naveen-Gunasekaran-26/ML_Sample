{
 "cells": [
  {
   "cell_type": "markdown",
   "source": [
    "Python v3.7\r\n",
    "Tensorflow v1.15"
   ],
   "metadata": {}
  },
  {
   "cell_type": "code",
   "execution_count": 1,
   "source": [
    "import tensorflow as tf\r\n",
    "import numpy as np\r\n",
    "\r\n",
    "print(tf.__version__)"
   ],
   "outputs": [
    {
     "output_type": "stream",
     "name": "stdout",
     "text": [
      "1.15.0\n"
     ]
    }
   ],
   "metadata": {}
  },
  {
   "cell_type": "markdown",
   "source": [
    "Initializing the number of points and the dependent and independent variables.\r\n",
    "Regression equation\r\n",
    "y = ax+b"
   ],
   "metadata": {}
  },
  {
   "cell_type": "code",
   "execution_count": 2,
   "source": [
    "numPts = 100\r\n",
    "x = []\r\n",
    "y = []"
   ],
   "outputs": [],
   "metadata": {}
  },
  {
   "cell_type": "code",
   "execution_count": 3,
   "source": [
    "a = 0.45\r\n",
    "b = 0.60"
   ],
   "outputs": [],
   "metadata": {}
  },
  {
   "cell_type": "markdown",
   "source": [
    "y = 0.45 ∗ x + 0.60\r\n",
    "\r\n",
    "Finally, after gradient descent, the model should also converge to the above values of a and b."
   ],
   "metadata": {}
  },
  {
   "cell_type": "markdown",
   "source": [
    "Generate random points for x and y"
   ],
   "metadata": {}
  },
  {
   "cell_type": "code",
   "execution_count": 4,
   "source": [
    "for i in range(numPts):\r\n",
    "    # random.normal(loc=0.0, scale=1.0, size=None)\r\n",
    "    # Draw random samples from a normal (Gaussian) distribution.\r\n",
    "    xtemp = np.random.normal(0.0, 0.5)\r\n",
    "    ytemp = a * xtemp + b + np.random.normal(0.0, 0.1)\r\n",
    "    x.append(xtemp)\r\n",
    "    y.append(ytemp)"
   ],
   "outputs": [],
   "metadata": {}
  },
  {
   "cell_type": "markdown",
   "source": [
    "Initializing the Variables\r\n",
    "\r\n",
    "The objective here is to implement a Machine Learning algorithm to predict using TensorFlow which must predict yy given xx.\r\n",
    "\r\n",
    "The linear regression model should converge to an optimal aa and bb that minimizes the cost function.\r\n",
    "\r\n",
    "Initializing arbitrary values for A and setting b to zero."
   ],
   "metadata": {}
  },
  {
   "cell_type": "code",
   "execution_count": 5,
   "source": [
    "# tf.random.uniform\r\n",
    "# Outputs random values from a uniform distribution.\r\n",
    "A = tf.Variable(tf.random.uniform([1], -1.0, 1.0))\r\n",
    "b = tf.Variable(tf.zeros([1]))"
   ],
   "outputs": [],
   "metadata": {}
  },
  {
   "cell_type": "markdown",
   "source": [
    "Creating a relationship between x and y"
   ],
   "metadata": {}
  },
  {
   "cell_type": "code",
   "execution_count": 6,
   "source": [
    "# Convert list x to a tensor\r\n",
    "x = tf.convert_to_tensor(x)\r\n",
    "\r\n",
    "yPred = tf.add(tf.multiply(A,x), b)"
   ],
   "outputs": [],
   "metadata": {}
  },
  {
   "cell_type": "markdown",
   "source": [
    "Cost Func and Grad Desc\r\n",
    "\r\n",
    "The below code is used to set the learning rate. \r\n",
    "It can be set to any number between 0 and 1."
   ],
   "metadata": {}
  },
  {
   "cell_type": "code",
   "execution_count": 7,
   "source": [
    "learningRate = 0.25"
   ],
   "outputs": [],
   "metadata": {}
  },
  {
   "cell_type": "markdown",
   "source": [
    "Below the cost function is defined. \r\n",
    "\r\n",
    "The optimization is done using gradient descent."
   ],
   "metadata": {}
  },
  {
   "cell_type": "code",
   "execution_count": 8,
   "source": [
    "# tf.reduce_mean()\r\n",
    "# Computes the mean of elements across dimensions of a tensor.\r\n",
    "\r\n",
    "# For example\r\n",
    "# x = tf.constant([[1., 1.], [2., 2.]])\r\n",
    "# tf.reduce_mean(x)  # 1.5\r\n",
    "# tf.reduce_mean(x, 0)  # [1.5, 1.5]\r\n",
    "# tf.reduce_mean(x, 1)  # [1.,  2.]\r\n",
    "\r\n",
    "costFunction = tf.reduce_mean(tf.square( yPred - y ))\r\n",
    "\r\n",
    "# In TensorFlow 2.0, Keras became the default high-level API, and \r\n",
    "# optimizer functions migrated from tf.keras.optimizers \r\n",
    "# into separate API called tf.optimizers. They inherit from Keras class Optimizer.\r\n",
    "# Relevant functions from tf.train aren't included into TF 2.0. So to access \r\n",
    "# GradientDescentOptimizer, call tf.optimizers.SGD\r\n",
    "\r\n",
    "optimizer = tf.train.GradientDescentOptimizer(learningRate) #Old method\r\n",
    "# optimizer = tf.optimizers.SGD(learningRate) #New method"
   ],
   "outputs": [
    {
     "output_type": "stream",
     "name": "stdout",
     "text": [
      "WARNING:tensorflow:From C:\\Users\\gn260\\AppData\\Local\\Temp/ipykernel_23704/1527185643.py:18: The name tf.train.GradientDescentOptimizer is deprecated. Please use tf.compat.v1.train.GradientDescentOptimizer instead.\n",
      "\n"
     ]
    }
   ],
   "metadata": {}
  },
  {
   "cell_type": "markdown",
   "source": [
    "Finally, the model is trained to minimize the cost function."
   ],
   "metadata": {}
  },
  {
   "cell_type": "code",
   "execution_count": 9,
   "source": [
    "train = optimizer.minimize(costFunction)"
   ],
   "outputs": [],
   "metadata": {}
  },
  {
   "cell_type": "markdown",
   "source": [
    "Testing the model"
   ],
   "metadata": {}
  },
  {
   "cell_type": "code",
   "execution_count": 10,
   "source": [
    "numberOfIterations = 50\r\n",
    "model = tf.initialize_all_variables()\r\n",
    "\r\n",
    "with tf.Session() as session:\r\n",
    "    session.run(model)\r\n",
    "\r\n",
    "    for step in range(0, numberOfIterations):\r\n",
    "        session.run(train)\r\n",
    "    ModelA = session.run(A)\r\n",
    "    ModelB = session.run(b)"
   ],
   "outputs": [
    {
     "output_type": "stream",
     "name": "stdout",
     "text": [
      "WARNING:tensorflow:From C:\\Users\\gn260\\AppData\\Local\\Programs\\Python\\Python37\\lib\\site-packages\\tensorflow_core\\python\\util\\tf_should_use.py:198: initialize_all_variables (from tensorflow.python.ops.variables) is deprecated and will be removed after 2017-03-02.\n",
      "Instructions for updating:\n",
      "Use `tf.global_variables_initializer` instead.\n",
      "WARNING:tensorflow:From C:\\Users\\gn260\\AppData\\Local\\Temp/ipykernel_23704/3587685050.py:4: The name tf.Session is deprecated. Please use tf.compat.v1.Session instead.\n",
      "\n"
     ]
    }
   ],
   "metadata": {}
  },
  {
   "cell_type": "code",
   "execution_count": 12,
   "source": [
    "print(\"A : \", ModelA)\r\n",
    "print(\"B : \", ModelB)"
   ],
   "outputs": [
    {
     "output_type": "stream",
     "name": "stdout",
     "text": [
      "A :  [0.4594052]\n",
      "B :  [0.60962766]\n"
     ]
    }
   ],
   "metadata": {}
  },
  {
   "cell_type": "code",
   "execution_count": null,
   "source": [],
   "outputs": [],
   "metadata": {}
  }
 ],
 "metadata": {
  "orig_nbformat": 4,
  "language_info": {
   "name": "python",
   "version": "3.7.7",
   "mimetype": "text/x-python",
   "codemirror_mode": {
    "name": "ipython",
    "version": 3
   },
   "pygments_lexer": "ipython3",
   "nbconvert_exporter": "python",
   "file_extension": ".py"
  },
  "kernelspec": {
   "name": "python3",
   "display_name": "Python 3.7.7 64-bit"
  },
  "interpreter": {
   "hash": "279678f0e49e825196dde5875a9dada118ee3812a2ddb68579cee3c4e4f27681"
  }
 },
 "nbformat": 4,
 "nbformat_minor": 2
}